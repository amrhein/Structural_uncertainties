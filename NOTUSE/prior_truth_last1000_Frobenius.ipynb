{
 "cells": [
  {
   "cell_type": "code",
   "execution_count": 4,
   "metadata": {},
   "outputs": [],
   "source": [
    "# put the directory path to your LMR repository here\n",
    "import sys\n",
    "sys.path.append(\"/Users/dan/Desktop/LMR_py3/\")\n",
    "#!cd /Users/dan/Desktop/LMR_py3\n",
    "\n",
    "# prefix for figure filename\n",
    "#fig_prefix='prior_truth_'"
   ]
  },
  {
   "cell_type": "code",
   "execution_count": 5,
   "metadata": {},
   "outputs": [
    {
     "name": "stdout",
     "output_type": "stream",
     "text": [
      "Loading information from datasets.yml\n",
      "Loading information from grid_def.yml\n"
     ]
    }
   ],
   "source": [
    "import os\n",
    "os.chdir('/Users/dan/Desktop/LMR_py3')\n",
    "import LMR_lite_utils as LMRlite\n",
    "import LMR_utils\n",
    "import LMR_config\n",
    "import numpy as np\n",
    "import os,sys\n",
    "from time import time\n",
    "import matplotlib.pyplot as plt\n",
    "import cartopy.crs as ccrs\n",
    "import cartopy.feature\n",
    "from cartopy.util import add_cyclic_point\n",
    "%matplotlib inline\n",
    "import cartopy.util as cutil\n",
    "import cartopy.crs as ccrs\n",
    "from cartopy.mpl.geoaxes import GeoAxes\n",
    "from cartopy.mpl.ticker import LongitudeFormatter, LatitudeFormatter\n",
    "from mpl_toolkits.axes_grid1 import AxesGrid\n",
    "import matplotlib.cm as cm\n",
    "\n"
   ]
  },
  {
   "cell_type": "code",
   "execution_count": 3,
   "metadata": {},
   "outputs": [
    {
     "data": {
      "text/plain": [
       "<module 'LMR_lite_utils' from '/Users/dan/Desktop/LMR_py3/LMR_lite_utils.py'>"
      ]
     },
     "execution_count": 3,
     "metadata": {},
     "output_type": "execute_result"
    }
   ],
   "source": [
    "# use this when revising modules; this reloads\n",
    "import importlib\n",
    "importlib.reload(LMRlite)"
   ]
  },
  {
   "cell_type": "code",
   "execution_count": 5,
   "metadata": {},
   "outputs": [
    {
     "name": "stdout",
     "output_type": "stream",
     "text": [
      "Checking configuration ... \n",
      "OK!\n",
      "Reading file:  /Users/dan/Desktop/LMR_py3/data/model/ccsm4_last_millenium/tas_sfc_Amon_CCSM4_past1000_085001-185012.nc\n",
      "(12012, 192, 288)\n",
      "indlat= 0  indlon= 1\n",
      "Anomalies provided as the prior: Removing the temporal mean (for every gridpoint)...\n",
      "tas : Global(monthly): mean= 8.072375e-07  , std-dev= 1.8899411\n",
      "Averaging over month sequence: [1, 2, 3, 4, 5, 6, 7, 8, 9, 10, 11, 12]\n",
      "tas : Global(time-averaged): mean= 4.4424884352419226e-08  , std-dev= 0.8317386411161235\n",
      " \n",
      "State vector information:\n",
      "Nx = 55296\n",
      "state_vect_info= {'tas_sfc_Amon': {'pos': (0, 55295), 'spacecoords': ('lat', 'lon'), 'spacedims': (192, 288), 'vartype': '2D:horizontal'}}\n",
      "Random selection of 1000 ensemble members\n",
      "regridding prior...\n",
      "0 55295\n",
      "(55296, 1000)\n",
      "(55296, 2)\n",
      "(55296, 2)\n",
      "tas_sfc_Amon  : 2D lat/lon variable, truncating this variable\n",
      "nlat,nlon: 192 288\n",
      "=> Full array:      -11.247562408447266 8.779441833496094 0.0002476248215526498 0.8317324770123996\n",
      "=> Truncated array: -11.101190125702887 8.587566246732372 0.00024820675466886337 0.8270722288638279\n",
      "0\n",
      "CCSM4\n",
      "Checking configuration ... \n",
      "OK!\n",
      "Reading file:  /Users/dan/Desktop/LMR_py3/data/model/mpi-esm-p_last_millenium/tas_sfc_Amon_MPI-ESM-P_past1000_085001-185012.nc\n",
      "(12000, 96, 192)\n",
      "indlat= 0  indlon= 1\n",
      "Anomalies provided as the prior: Removing the temporal mean (for every gridpoint)...\n",
      "tas : Global(monthly): mean= 9.960508e-06  , std-dev= 1.6648952\n",
      "Averaging over month sequence: [1, 2, 3, 4, 5, 6, 7, 8, 9, 10, 11, 12]\n",
      "tas : Global(time-averaged): mean= 1.000328960082861e-05  , std-dev= 0.7613386358533724\n",
      " \n",
      "State vector information:\n",
      "Nx = 18432\n",
      "state_vect_info= {'tas_sfc_Amon': {'pos': (0, 18431), 'spacecoords': ('lat', 'lon'), 'spacedims': (96, 192), 'vartype': '2D:horizontal'}}\n",
      "Random selection of 1000 ensemble members\n",
      "regridding prior...\n",
      "0 18431\n",
      "(18432, 1000)\n",
      "(18432, 2)\n",
      "(18432, 2)\n",
      "tas_sfc_Amon  : 2D lat/lon variable, truncating this variable\n",
      "nlat,nlon: 96 192\n",
      "=> Full array:      -10.699714660644531 9.019391059875488 1.000328960084347e-05 0.7613386358533728\n",
      "=> Truncated array: -10.443293049938198 8.929020628468816 1.0014957317949277e-05 0.7513485276964562\n",
      "1\n",
      "MPI-ESM\n",
      "Checking configuration ... \n",
      "OK!\n",
      "Reading file:  /Users/dan/Desktop/LMR_py3/data/model/hadcm3_last_millenium/tas_sfc_Amon_HadCM3_past1000_085001-185012.nc\n",
      "(12012, 73, 96)\n",
      "indlat= 0  indlon= 1\n",
      "Anomalies provided as the prior: Removing the temporal mean (for every gridpoint)...\n",
      "tas : Global(monthly): mean= -3.075072e-07  , std-dev= 1.996391\n",
      "Averaging over month sequence: [1, 2, 3, 4, 5, 6, 7, 8, 9, 10, 11, 12]\n",
      "tas : Global(time-averaged): mean= -2.700413205941557e-07  , std-dev= 0.8439147355739832\n",
      " \n",
      "State vector information:\n",
      "Nx = 7008\n",
      "state_vect_info= {'tas_sfc_Amon': {'pos': (0, 7007), 'spacecoords': ('lat', 'lon'), 'spacedims': (73, 96), 'vartype': '2D:horizontal'}}\n",
      "Random selection of 1000 ensemble members\n",
      "regridding prior...\n",
      "0 7007\n",
      "(7008, 1000)\n",
      "(7008, 2)\n",
      "(7008, 2)\n",
      "tas_sfc_Amon  : 2D lat/lon variable, truncating this variable\n",
      "nlat,nlon: 73 96\n",
      "=> Full array:      -13.79262638092041 9.977992057800293 0.0003697058971517426 0.8437622253039273\n",
      "=> Truncated array: -13.627491350171628 9.612980468849464 0.00036870292258773054 0.8091566502072106\n",
      "2\n",
      "HadCM3\n"
     ]
    }
   ],
   "source": [
    "# Load and interpolate all of the priors I want to use as truth\n",
    "\n",
    "lmr_names = ['ccsm4_last_millenium',\n",
    "             'mpi-esm-p_last_millenium',\n",
    "             'hadcm3_last_millenium']\n",
    "model_names = ['CCSM4','MPI-ESM','HadCM3']\n",
    "\n",
    "# Initialize an array of various interpolated model fields\n",
    "ad = []\n",
    "\n",
    "for ii in np.arange(len(lmr_names)):\n",
    "    dd = {}\n",
    "    cfile = './configs/config.yml.nullspace.'+lmr_names[ii]+'.1000'\n",
    "    yaml_file = os.path.join(LMR_config.SRC_DIR,cfile)\n",
    "    cfg = LMRlite.load_config(yaml_file)\n",
    "    \n",
    "    X, Xb_one = LMRlite.load_prior(cfg)\n",
    "    Xbp = Xb_one - Xb_one.mean(axis=1,keepdims=True)\n",
    "    \n",
    "    # check if config is set to regrid the prior\n",
    "    if cfg.prior.regrid_method:\n",
    "        print('regridding prior...')\n",
    "        # this function over-writes X, even if return is given a different name\n",
    "        [X,Xb_one_new] = LMRlite.prior_regrid(cfg,X,Xb_one,verbose=False)\n",
    "    else:\n",
    "        X.trunc_state_info = X.full_state_info\n",
    "    \n",
    "    Xb_one = Xb_one_new\n",
    "    Xbp = Xb_one - Xb_one.mean(axis=1,keepdims=True)\n",
    "    grid = LMRlite.Grid(X)    \n",
    "    \n",
    "    dd['X']        = X\n",
    "    dd['Xbp']      = Xbp\n",
    "    dd['name']     = model_names[ii]\n",
    "    dd['lmr_name'] = lmr_names[ii]\n",
    "    dd['grid']     = grid\n",
    "\n",
    "    print(ii)\n",
    "    print(dd['name'])\n",
    "\n",
    "    ad.append(dd)\n",
    "        \n"
   ]
  },
  {
   "cell_type": "code",
   "execution_count": 17,
   "metadata": {},
   "outputs": [],
   "source": [
    "# Compute Frobenius differences between covariance matrices without saving them in memory. Uses the fact that ||A|| = \\sqrt{tr(A*A)}\n",
    "# and that the F distance is invariant under multiplication (left and right) by unitary matrices.\n",
    "# Assumes column vectors of X1 and X2 have (same) dimensions of the state.\n",
    "# DEA 30 Mar 2020\n",
    "def cheap_Frob_diff(X1,X2):\n",
    "    u,s,_ = np.linalg.svd(np.concatenate([X1,X2],1),full_matrices=False)\n",
    "    _,ns = u.shape\n",
    "    u1 = u.T.dot(X1)\n",
    "    u2 = u.T.dot(X2)\n",
    "    x2d = np.zeros([ns,1])\n",
    "    for si in np.arange(ns-1):\n",
    "        x1i = u1.dot(u1[si,:].T)\n",
    "        x2i = u2.dot(u2[si,:].T)\n",
    "        x2d[si] = (x2i-x1i).T.dot(x2i-x1i)\n",
    "        \n",
    "    fn = np.sqrt(np.sum(x2d))\n",
    "    return fn\n",
    "        \n",
    "    "
   ]
  },
  {
   "cell_type": "code",
   "execution_count": 29,
   "metadata": {},
   "outputs": [],
   "source": [
    "# Compute Frobenius differences between covariance matrices without saving them in memory. Uses the fact that ||A|| = \\sqrt{tr(A*A)}\n",
    "# and that the F distance is invariant under multiplication (left and right) by unitary matrices.\n",
    "# Assumes column vectors of X1 and X2 have (same) dimensions of the state.\n",
    "# DEA 30 Mar 2020\n",
    "def cheap_Frob_diff_test(X1,X2):\n",
    "    u,s,_ = np.linalg.svd(np.concatenate([X1,X2],1),full_matrices=True)\n",
    "    _,ns = u.shape\n",
    "    u1 = u.T.dot(X1)\n",
    "    u2 = u.T.dot(X2)\n",
    "    x2d = np.zeros([ns,1])\n",
    "    for si in np.arange(ns-1):\n",
    "        x1i = u1.dot(u1[si,:].T)\n",
    "        x2i = u2.dot(u2[si,:].T)\n",
    "        x2d[si] = (x2i-x1i).T.dot(x2i-x1i)\n",
    "        \n",
    "    fn = np.sqrt(np.sum(x2d))\n",
    "    return fn\n",
    "        \n",
    "    "
   ]
  },
  {
   "cell_type": "code",
   "execution_count": 6,
   "metadata": {},
   "outputs": [],
   "source": [
    "# Compute Frobenius differences between covariance matrices without saving them in memory. Uses the fact that ||A|| = \\sqrt{tr(A*A)}\n",
    "# and that the F distance is invariant under multiplication (left and right) by unitary matrices.\n",
    "# Assumes column vectors of X1 and X2 have (same) dimensions of the state.\n",
    "# DEA 30 Mar 2020\n",
    "def cheap_Frob_diff_norm(X1,X2):\n",
    "    _,c1  = X1.shape\n",
    "    _,c2  = X2.shape\n",
    "    u,s,_ = np.linalg.svd(np.concatenate([X1,X2],1),full_matrices=False)\n",
    "    _,ns  = u.shape\n",
    "    u1    = u.T.dot(X1/np.sqrt(c1-1.))\n",
    "    u2    = u.T.dot(X2/np.sqrt(c2-1.))\n",
    "    x2d = np.zeros([ns,1])\n",
    "    for si in np.arange(ns-1):\n",
    "        x1i = u1.dot(u1[si,:].T)\n",
    "        x2i = u2.dot(u2[si,:].T)\n",
    "        x2d[si] = (x2i-x1i).T.dot(x2i-x1i)\n",
    "        \n",
    "    fn = np.sqrt(np.sum(x2d))\n",
    "    return fn\n",
    "        \n",
    "    "
   ]
  },
  {
   "cell_type": "code",
   "execution_count": 23,
   "metadata": {},
   "outputs": [],
   "source": [
    "# Is 100 enough for convergence? \n",
    "# Now with cheap_frob_diff\n",
    "def compfrob(mi,ad):\n",
    "\n",
    "    Xbp = ad[mi]['Xbp']\n",
    "    Nens = ad[mi]['grid'].nens\n",
    "    dv = np.empty([1,Nens])\n",
    "\n",
    "    wXbp = np.sqrt(1/Nens) * Xbp\n",
    "\n",
    "    for ii in np.arange(3,Nens,100):\n",
    "        print(mi)\n",
    "        print(ii)\n",
    "        Wi = np.sqrt(1/(ii)) * Xbp[:,:ii]\n",
    "        dv = cheap_Frob_diff(Wi,wXbp)\n",
    "        \n",
    "    np.save('/Users/dan/Desktop/Nullspace/pt_out/Frobnorm_' + str(mi), dv)\n",
    "\n",
    "\n",
    "        \n",
    "    return dv"
   ]
  },
  {
   "cell_type": "code",
   "execution_count": 24,
   "metadata": {},
   "outputs": [
    {
     "data": {
      "text/plain": [
       "[123.86748695267885, 100.0643028491989, 118.58580417886131]"
      ]
     },
     "execution_count": 24,
     "metadata": {},
     "output_type": "execute_result"
    }
   ],
   "source": [
    "# Run in parallel\n",
    "\n",
    "from joblib import Parallel, delayed\n",
    "import multiprocessing\n",
    "num_cores = multiprocessing.cpu_count()\n",
    "Parallel(n_jobs=3)(delayed(compfrob)(ii,ad) for ii in np.arange(3))"
   ]
  },
  {
   "cell_type": "code",
   "execution_count": 9,
   "metadata": {},
   "outputs": [
    {
     "data": {
      "text/plain": [
       "1000"
      ]
     },
     "execution_count": 9,
     "metadata": {},
     "output_type": "execute_result"
    }
   ],
   "source": []
  },
  {
   "cell_type": "code",
   "execution_count": null,
   "metadata": {},
   "outputs": [],
   "source": []
  },
  {
   "cell_type": "code",
   "execution_count": 37,
   "metadata": {},
   "outputs": [
    {
     "name": "stdout",
     "output_type": "stream",
     "text": [
      "0\n",
      "3\n",
      "53\n",
      "103\n",
      "153\n",
      "203\n",
      "253\n",
      "303\n",
      "353\n",
      "403\n",
      "453\n",
      "503\n",
      "553\n",
      "603\n",
      "653\n",
      "703\n",
      "753\n",
      "803\n",
      "853\n",
      "903\n",
      "953\n",
      "1\n",
      "3\n",
      "53\n",
      "103\n",
      "153\n",
      "203\n",
      "253\n",
      "303\n",
      "353\n",
      "403\n",
      "453\n",
      "503\n",
      "553\n",
      "603\n",
      "653\n",
      "703\n",
      "753\n",
      "803\n",
      "853\n",
      "903\n",
      "953\n",
      "2\n",
      "3\n",
      "53\n",
      "103\n",
      "153\n",
      "203\n",
      "253\n",
      "303\n",
      "353\n",
      "403\n",
      "453\n",
      "503\n",
      "553\n",
      "603\n",
      "653\n",
      "703\n",
      "753\n",
      "803\n",
      "853\n",
      "903\n",
      "953\n"
     ]
    },
    {
     "data": {
      "text/plain": [
       "<function matplotlib.pyplot.tight_layout(pad=1.08, h_pad=None, w_pad=None, rect=None)>"
      ]
     },
     "execution_count": 37,
     "metadata": {},
     "output_type": "execute_result"
    },
    {
     "data": {
      "image/png": "[encoded data removed]",
      "text/plain": [
       "<Figure size 504x216 with 1 Axes>"
      ]
     },
     "metadata": {
      "needs_background": "light"
     },
     "output_type": "display_data"
    }
   ],
   "source": [
    "# Is 100 enough for convergence? \n",
    "# Now with cheap_frob_diff\n",
    "\n",
    "plt.rcParams['text.latex.preamble']=[r\"\\usepackage{amsmath}\"]\n",
    "\n",
    "plt.figure(figsize=(7,3))\n",
    "L  = len(np.arange(3,Nens,50))\n",
    "dv = np.zeros([3,L])\n",
    "m  = np.zeros(L)\n",
    "\n",
    "for mi in np.arange(3):\n",
    "    print(mi)\n",
    "    Xbp = ad[mi]['Xbp']\n",
    "    Nens = ad[mi]['grid'].nens\n",
    "    \n",
    "    wXbp = np.sqrt(1/Nens) * Xbp\n",
    "\n",
    "    for ind, ii in enumerate(np.arange(3,Nens,50)):\n",
    "        print(ii)\n",
    "        Wi = np.sqrt(1/(ii)) * Xbp[:,:ii]\n",
    "        dv[mi,ind] = cheap_Frob_diff(Wi,wXbp)\n",
    "        \n",
    "#plt.plot(np.arange(Nens)+2,dv.T[:,0],\"r\",linewidth=2)\n",
    "#plt.plot(np.arange(Nens)+2,dv.T[:,1],\"c\",linewidth=2)\n",
    "#plt.plot(np.arange(Nens)+2,dv.T[:,2],\"y\",linewidth=2)\n",
    "#plt.title('Sum of squared differences of EOF weights from 100 ensemble member case')\n",
    "\n",
    "m = np.arange(3,Nens,50)\n",
    "\n",
    "plt.plot(m,dv.T[:,0],\"r\",linewidth=2)\n",
    "plt.plot(m,dv.T[:,1],\"c\",linewidth=2)\n",
    "plt.plot(m,dv.T[:,2],\"y\",linewidth=2)\n",
    "\n",
    "plt.xlabel('Number $N$ of ensemble members')\n",
    "#plt.xticks([2,20,40,60,80,100])\n",
    "plt.xlim([5,Nens])\n",
    "#plt.ylabel(r'Residual variance (K$^2$)')\n",
    "plt.ylabel(r'$\\|\\|\\mathbf{C}(100)-\\mathbf{C}(N)\\|\\|$')\n",
    "plt.legend([model_names[0],model_names[1],model_names[2]],frameon=True)\n",
    "plt.tight_layout\n",
    "# I now think this final picture is just the Frobenius distance!\n",
    "#plt.savefig('/Users/dan/Desktop/Nullspace_Figs/converges.pdf',bbox_inches='tight')\n"
   ]
  },
  {
   "cell_type": "code",
   "execution_count": 28,
   "metadata": {},
   "outputs": [
    {
     "data": {
      "text/plain": [
       "[<matplotlib.lines.Line2D at 0x1c28df2d68>]"
      ]
     },
     "execution_count": 28,
     "metadata": {},
     "output_type": "execute_result"
    },
    {
     "data": {
      "image/png": "[encoded data removed]",
      "text/plain": [
       "<Figure size 432x288 with 1 Axes>"
      ]
     },
     "metadata": {
      "needs_background": "light"
     },
     "output_type": "display_data"
    }
   ],
   "source": [
    "plt.plot(np.arange(Nens)+2,dv.T[:,0],\"r\",linewidth=2)\n",
    "plt.plot(np.arange(Nens)+2,dv.T[:,1],\"c\",linewidth=2)\n",
    "plt.plot(np.arange(Nens)+2,dv.T[:,2],\"y\",linewidth=2)"
   ]
  },
  {
   "cell_type": "code",
   "execution_count": 31,
   "metadata": {},
   "outputs": [
    {
     "name": "stdout",
     "output_type": "stream",
     "text": [
      "[[-1.84199566  0.4122876  -0.54104882  0.25864002  0.57855761]\n",
      " [ 1.22629201 -0.52071245 -1.33619826 -1.04651291 -0.39773422]\n",
      " [-0.89685591 -1.33882903  1.73135062 -0.07567851  0.51558188]]\n",
      "[[-0.19877626  0.34015479 -1.05559448  0.66014254 -0.49635129]\n",
      " [ 0.07031069 -0.26855309 -1.07084022  1.18630286 -0.53020725]\n",
      " [ 1.81146835 -0.28664504 -0.29210625 -1.85382803 -0.42618124]]\n",
      "7.531913194877397\n",
      "7.216410425532569\n"
     ]
    }
   ],
   "source": [
    "X1 = np.random.randn(3,5)\n",
    "X2 = np.random.randn(3,5)\n",
    "print(X1)\n",
    "print(X2)\n",
    "A = X1.dot(X1.T)-X2.dot(X2.T)\n",
    "\n",
    "t1 = np.sqrt(np.trace(A.dot(A)))\n",
    "t2 = cheap_Frob_diff_test(X1,X2)\n",
    "\n",
    "print(t1)\n",
    "print(t2)\n"
   ]
  },
  {
   "cell_type": "code",
   "execution_count": null,
   "metadata": {},
   "outputs": [],
   "source": []
  },
  {
   "cell_type": "code",
   "execution_count": null,
   "metadata": {},
   "outputs": [],
   "source": []
  }
 ],
 "metadata": {
  "kernelspec": {
   "display_name": "Python 3",
   "language": "python",
   "name": "python3"
  },
  "language_info": {
   "codemirror_mode": {
    "name": "ipython",
    "version": 3
   },
   "file_extension": ".py",
   "mimetype": "text/x-python",
   "name": "python",
   "nbconvert_exporter": "python",
   "pygments_lexer": "ipython3",
   "version": "3.6.8"
  }
 },
 "nbformat": 4,
 "nbformat_minor": 2
}
