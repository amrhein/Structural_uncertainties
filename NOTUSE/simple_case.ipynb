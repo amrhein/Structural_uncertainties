{
 "cells": [
  {
   "cell_type": "code",
   "execution_count": null,
   "metadata": {},
   "outputs": [],
   "source": [
    "Nx    = 8\n",
    "NxDOF = 4\n",
    "Nobs  = 3\n",
    "SNR   = 0.4\n",
    "Nensp = 8\n",
    "Nenst = 8\n",
    "\n",
    "# Generate random draws of the state (truth)\n",
    "\n",
    "# Generate prior\n",
    "\n",
    "# Sample the state and add noise\n",
    "\n",
    "# Perform reconstruction\n",
    "\n",
    "# Compute RMSE\n",
    "\n"
   ]
  }
 ],
 "metadata": {
  "kernelspec": {
   "display_name": "Python 3",
   "language": "python",
   "name": "python3"
  },
  "language_info": {
   "codemirror_mode": {
    "name": "ipython",
    "version": 3
   },
   "file_extension": ".py",
   "mimetype": "text/x-python",
   "name": "python",
   "nbconvert_exporter": "python",
   "pygments_lexer": "ipython3",
   "version": "3.6.8"
  }
 },
 "nbformat": 4,
 "nbformat_minor": 4
}
