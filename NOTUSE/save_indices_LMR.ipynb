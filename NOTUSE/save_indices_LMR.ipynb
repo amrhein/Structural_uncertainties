{
 "cells": [
  {
   "cell_type": "code",
   "execution_count": 1,
   "metadata": {
    "collapsed": false
   },
   "outputs": [],
   "source": [
    "%matplotlib inline\n",
    "#%qtconsole\n",
    "\n",
    "import os\n",
    "import cPickle\n",
    "import numpy as np\n",
    "import pandas\n",
    "from scipy import linalg\n",
    "import scipy\n",
    "\n",
    "import matplotlib\n",
    "import matplotlib.pyplot as plt\n",
    "import matplotlib.colors as colors\n",
    "from matplotlib.figure import Figure\n",
    "from matplotlib.colors import from_levels_and_colors\n",
    "#from mpl_toolkits.basemap import Basemap\n",
    "from netCDF4 import Dataset, date2num, num2date\n",
    "from load_gridded_data import read_gridded_data_CMIP5_model\n",
    "from gridAvg import gridAvg\n",
    "import wd"
   ]
  },
  {
   "cell_type": "code",
   "execution_count": 4,
   "metadata": {
    "collapsed": false
   },
   "outputs": [],
   "source": [
    "wts = np.load('/Users/dan/Desktop/CCSM4_ctrl/WTS/RUN1/ensemble_mean_wts_sfc_Amon.npz')\n",
    "tas = np.load('/Users/dan/Desktop/CCSM4_ctrl/WTS/RUN1/ensemble_mean_tas_sfc_Amon.npz')\n",
    "\n",
    "wts['xam']"
   ]
  },
  {
   "cell_type": "code",
   "execution_count": null,
   "metadata": {},
   "outputs": [],
   "source": [
    "#\n",
    "# List of indices (i.e. years if annual recon) randomly sampled from model output to form the prior(ensemble):\n",
    "# with seed=0\n",
    "[864, 394, 776, 911, 430, 41, 265, 988, 523, 497, 414, 940, 802, 849, 310, 488, 366, 597, 913, 929, 223, 516, 142, 288, 143, 773, 97, 633, 818, 256, 931, 545, 722, 829\n",
    ", 616, 923, 150, 317, 101, 747, 75, 920, 870, 700, 338, 483, 573, 103, 362, 444, 323, 625, 655, 934, 209, 565, 985, 453, 886, 533, 266, 63, 824, 561, 14, 95, 736, 860,\n",
    " 408, 727, 844, 803, 684, 640, 1, 626, 505, 847, 888, 341, 249, 961, 333, 720, 891, 64, 195, 581, 227, 244, 822, 145, 910, 556, 458, 93, 82, 327, 896, 520]"
   ]
  }
 ],
 "metadata": {
  "anaconda-cloud": {},
  "kernelspec": {
   "display_name": "Python 2",
   "language": "python",
   "name": "python2"
  },
  "language_info": {
   "codemirror_mode": {
    "name": "ipython",
    "version": 2
   },
   "file_extension": ".py",
   "mimetype": "text/x-python",
   "name": "python",
   "nbconvert_exporter": "python",
   "pygments_lexer": "ipython2",
   "version": "2.7.15"
  }
 },
 "nbformat": 4,
 "nbformat_minor": 2
}
